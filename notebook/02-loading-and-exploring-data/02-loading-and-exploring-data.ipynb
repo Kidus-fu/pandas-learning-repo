{
 "cells": [
  {
   "cell_type": "markdown",
   "metadata": {},
   "source": [
    "## 02 - Loading and Exploring Data"
   ]
  },
  {
   "cell_type": "code",
   "execution_count": 1,
   "metadata": {},
   "outputs": [],
   "source": [
    "import pandas as pd"
   ]
  },
  {
   "cell_type": "markdown",
   "metadata": {},
   "source": [
    "CSV Files:\n",
    "\n",
    "Use pd.read_csv() to load data from a CSV file."
   ]
  },
  {
   "cell_type": "code",
   "execution_count": null,
   "metadata": {},
   "outputs": [],
   "source": [
    "# Load CSV file\n",
    "df = pd.read_csv(\"../../data/frist.csv\")\n",
    "print(df.head())"
   ]
  },
  {
   "cell_type": "markdown",
   "metadata": {},
   "source": [
    "JSON Files:\n",
    "\n",
    "Use pd.read_json() to load data from JSON files."
   ]
  },
  {
   "cell_type": "code",
   "execution_count": null,
   "metadata": {},
   "outputs": [],
   "source": [
    "# Load JSON file\n",
    "df = pd.read_json(\"../../data/frist.json\")\n",
    "print(df)"
   ]
  },
  {
   "cell_type": "markdown",
   "metadata": {},
   "source": [
    "Exploring Data\n",
    "\n",
    "After loading the data, it’s crucial to inspect its structure and understand its content. Here are some useful methods:\n",
    "\n",
    "Basic Information:\n",
    "\n",
    "df.info() – Displays metadata, such as data types and memory usage.\n",
    "df.shape – Returns the number of rows and columns."
   ]
  },
  {
   "cell_type": "code",
   "execution_count": null,
   "metadata": {},
   "outputs": [],
   "source": [
    "print(df.info())\n",
    "print(\"Shape: \",df.shape)"
   ]
  },
  {
   "cell_type": "markdown",
   "metadata": {},
   "source": [
    "Preview the Data:\n",
    "\n",
    "df.head() – Displays the first 5 rows (useful for previewing data).\n",
    "df.tail() – Displays the last 5 rows"
   ]
  },
  {
   "cell_type": "code",
   "execution_count": null,
   "metadata": {},
   "outputs": [],
   "source": [
    "print(df.head())\n",
    "print(df.tail())"
   ]
  },
  {
   "cell_type": "markdown",
   "metadata": {},
   "source": [
    "Column and Index Information:\n",
    "\n",
    "df.columns – Lists all column names.\n",
    "df.index – Displays row index information."
   ]
  },
  {
   "cell_type": "code",
   "execution_count": null,
   "metadata": {},
   "outputs": [],
   "source": [
    "print(\"Columns:\", df.columns)\n",
    "print(\"Index:\", df.index)"
   ]
  },
  {
   "cell_type": "markdown",
   "metadata": {},
   "source": [
    "Summary Statistics:\n",
    "\n",
    "df.describe() – Provides a statistical summary (mean, std, min, etc.) for numeric columns."
   ]
  },
  {
   "cell_type": "code",
   "execution_count": null,
   "metadata": {},
   "outputs": [],
   "source": [
    "print(df.describe())"
   ]
  },
  {
   "cell_type": "markdown",
   "metadata": {},
   "source": [
    "\n",
    "## Exercises\n",
    "\n",
    "### Exercise 1:\n",
    "\n",
    "Load a CSV file named `sales.csv` containing the following data:\n",
    "\n",
    "| Product | Units Sold | Revenue |\n",
    "| --- | --- | --- |\n",
    "| Laptop | 5 | 6000 |\n",
    "| Smartphone | 10 | 8000 |\n",
    "| Headphones | 15 | 1500 |\n",
    "\n",
    "1.  Use Pandas to load this file.\n",
    "2.  Display the first 2 rows using `.head()`.\n",
    "3.  Print the shape of the dataset.\n",
    "\n",
    "### Exercise 2:\n",
    "\n",
    "Create a DataFrame manually with the following data:\n",
    "\n",
    "| Name | Age | Department |\n",
    "| --- | --- | --- |\n",
    "| Alice | 25 | HR |\n",
    "| Bob | 30 | IT |\n",
    "| Charlie | 35 | Marketing |\n",
    "\n",
    "1.  Display the column names and index information.\n",
    "2.  Print the summary statistics using `.describe()`."
   ]
  },
  {
   "cell_type": "markdown",
   "metadata": {},
   "source": [
    "### **Exercies 1**\n",
    "solving"
   ]
  },
  {
   "cell_type": "code",
   "execution_count": null,
   "metadata": {},
   "outputs": [],
   "source": [
    "# 1. Use Pandas to load this file\n",
    "sales_data = pd.read_csv(\"../../data/sales.csv\")\n",
    "\n",
    "# Display the frit 2 row using .head()\n",
    "print(sales_data.head())\n",
    "\n",
    "#print the shape of the dataset \n",
    "print(sales_data.shape)"
   ]
  },
  {
   "cell_type": "markdown",
   "metadata": {},
   "source": [
    "### **Exercies 2**\n",
    "solving"
   ]
  },
  {
   "cell_type": "code",
   "execution_count": 16,
   "metadata": {},
   "outputs": [
    {
     "name": "stdout",
     "output_type": "stream",
     "text": [
      "Column:  Index(['Name', 'Age', 'Department'], dtype='object')\n",
      "\n",
      "Shape:  (3, 3)\n",
      "        Age\n",
      "count   3.0\n",
      "mean   30.0\n",
      "std     5.0\n",
      "min    25.0\n",
      "25%    27.5\n",
      "50%    30.0\n",
      "75%    32.5\n",
      "max    35.0\n"
     ]
    }
   ],
   "source": [
    "person_data = {\n",
    "    \"Name\":[\"Alice\",\"Bob\",\"Charlie\"],\n",
    "    \"Age\":[25, 30, 35],\n",
    "    \"Department\":[\"HR\",\"IT\",\"Marketing\"]\n",
    "}\n",
    "person_data_DataFrame = pd.DataFrame(person_data)\n",
    "\n",
    "# 1. Display the column names and index information.\n",
    "print(\"Column: \",person_data_DataFrame.columns)\n",
    "print(\"\\nShape: \",person_data_DataFrame.shape)\n",
    "\n",
    "# 2. Print the summary statistics using .describe().\n",
    "print(person_data_DataFrame.describe())"
   ]
  }
 ],
 "metadata": {
  "kernelspec": {
   "display_name": "Python 3",
   "language": "python",
   "name": "python3"
  },
  "language_info": {
   "codemirror_mode": {
    "name": "ipython",
    "version": 3
   },
   "file_extension": ".py",
   "mimetype": "text/x-python",
   "name": "python",
   "nbconvert_exporter": "python",
   "pygments_lexer": "ipython3",
   "version": "3.12.6"
  }
 },
 "nbformat": 4,
 "nbformat_minor": 2
}
