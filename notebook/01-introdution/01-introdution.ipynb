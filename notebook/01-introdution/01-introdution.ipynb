{
 "cells": [
  {
   "cell_type": "markdown",
   "metadata": {},
   "source": [
    "## 01 - Introduction to Pandas"
   ]
  },
  {
   "cell_type": "code",
   "execution_count": 3,
   "metadata": {},
   "outputs": [],
   "source": [
    "import pandas as pd"
   ]
  },
  {
   "cell_type": "markdown",
   "metadata": {},
   "source": [
    "### Pandas Data Structures"
   ]
  },
  {
   "cell_type": "code",
   "execution_count": null,
   "metadata": {},
   "outputs": [],
   "source": [
    "#Creating a Series\n",
    "data = pd.Series([10, 20, 30, 40], index=[\"a\", \"b\", \"c\", \"d\"])\n",
    "print(\"Series:\\n\",data)"
   ]
  },
  {
   "cell_type": "markdown",
   "metadata": {},
   "source": [
    "**DataFrame:**"
   ]
  },
  {
   "cell_type": "code",
   "execution_count": null,
   "metadata": {},
   "outputs": [],
   "source": [
    "data = {\n",
    "    \"Name\":[\"Alice\",\"Bob\",\"Charlie\"],\n",
    "    \"Age\":[25, 30, 35],\n",
    "    \"City\":[\"New York\",\"Los Angeles\",\"Chicago\"]\n",
    "}\n",
    "\n",
    "df = pd.DataFrame(data)\n",
    "print(\"DataFrame:\\n\",df)"
   ]
  },
  {
   "cell_type": "markdown",
   "metadata": {},
   "source": [
    "### Exercises\n",
    "\n",
    "To solidify your understanding, try these exercises:\n",
    "\n",
    "#### Exercise 1:\n",
    "\n",
    "Create a Pandas Series that represents the population of five cities. Use custom labels to name the cities."
   ]
  },
  {
   "cell_type": "code",
   "execution_count": null,
   "metadata": {},
   "outputs": [],
   "source": [
    "pop_five_city = pd.Series([\"1,322,236\",\"2,345,234\",\"2,345,322\",\"2,354,632\",\"8,754,324\"], index=[\"City A\",\"City B\",\"City C\",\"City D\",\"City E\"])\n",
    "print(\"The Five City Populaition\\n\",pop_five_city)"
   ]
  },
  {
   "cell_type": "markdown",
   "metadata": {},
   "source": [
    "### Exercie 2\n",
    "Create a Pandas DataFrame representing a list of products with the following columns:\n",
    "\n",
    "1. Product Name\n",
    "2. Price\n",
    "3. Stock Availability\n",
    "4. Add at least three rows of data."
   ]
  },
  {
   "cell_type": "code",
   "execution_count": null,
   "metadata": {},
   "outputs": [],
   "source": [
    "product_data = {\n",
    "    \"Produt_Name\":[\"Shose\",\"T-Shirt\",\"Pantes\"],\n",
    "    \"Price\":[361.29,45,32],\n",
    "    \"Stock_Availability\":[True,False,True],\n",
    "    \"descount\":[True,True,False]\n",
    "}\n",
    "product_DataFrame = pd.DataFrame(product_data)\n",
    "print(\"Data of Product\\n\",product_DataFrame)"
   ]
  }
 ],
 "metadata": {
  "kernelspec": {
   "display_name": "Python 3",
   "language": "python",
   "name": "python3"
  },
  "language_info": {
   "codemirror_mode": {
    "name": "ipython",
    "version": 3
   },
   "file_extension": ".py",
   "mimetype": "text/x-python",
   "name": "python",
   "nbconvert_exporter": "python",
   "pygments_lexer": "ipython3",
   "version": "3.12.6"
  }
 },
 "nbformat": 4,
 "nbformat_minor": 2
}
